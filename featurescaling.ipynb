{
  "nbformat": 4,
  "nbformat_minor": 0,
  "metadata": {
    "colab": {
      "name": "featurescaling.ipynb",
      "provenance": [],
      "authorship_tag": "ABX9TyND2CRTFxl775jFiaXHuF90",
      "include_colab_link": true
    },
    "kernelspec": {
      "name": "python3",
      "display_name": "Python 3"
    },
    "language_info": {
      "name": "python"
    }
  },
  "cells": [
    {
      "cell_type": "markdown",
      "metadata": {
        "id": "view-in-github",
        "colab_type": "text"
      },
      "source": [
        "<a href=\"https://colab.research.google.com/github/Pavi99sandamini151/Machine_learning/blob/main/featurescaling.ipynb\" target=\"_parent\"><img src=\"https://colab.research.google.com/assets/colab-badge.svg\" alt=\"Open In Colab\"/></a>"
      ]
    },
    {
      "cell_type": "code",
      "execution_count": 1,
      "metadata": {
        "id": "oqKSPf4xyv2t"
      },
      "outputs": [],
      "source": [
        "import numpy as np\n",
        "data = np.array([[26,50000],\n",
        "                 [29,70000],\n",
        "                 [34,55000],\n",
        "                 [31,41000]])"
      ]
    },
    {
      "cell_type": "code",
      "source": [
        "from sklearn.preprocessing import MinMaxScaler\n",
        "\n",
        "scaler = MinMaxScaler()\n",
        "scaled_data = scaler.fit_transform(data)\n",
        "scaled_data "
      ],
      "metadata": {
        "colab": {
          "base_uri": "https://localhost:8080/"
        },
        "id": "yx_ZWt55zIDA",
        "outputId": "067a8651-8ffd-48f3-e002-0615f2527aa8"
      },
      "execution_count": 2,
      "outputs": [
        {
          "output_type": "execute_result",
          "data": {
            "text/plain": [
              "array([[0.        , 0.31034483],\n",
              "       [0.375     , 1.        ],\n",
              "       [1.        , 0.48275862],\n",
              "       [0.625     , 0.        ]])"
            ]
          },
          "metadata": {},
          "execution_count": 2
        }
      ]
    },
    {
      "cell_type": "code",
      "source": [
        "from sklearn.preprocessing import StandardScaler\n",
        "\n",
        "scaler = StandardScaler()\n",
        "scaled_data = scaler.fit_transform(data)\n",
        "scaled_data"
      ],
      "metadata": {
        "colab": {
          "base_uri": "https://localhost:8080/"
        },
        "id": "CV571Be7zhyP",
        "outputId": "4b2bc75c-f417-427e-89b8-559200a51a4d"
      },
      "execution_count": 3,
      "outputs": [
        {
          "output_type": "execute_result",
          "data": {
            "text/plain": [
              "array([[-1.37198868, -0.3805212 ],\n",
              "       [-0.34299717,  1.52208478],\n",
              "       [ 1.37198868,  0.0951303 ],\n",
              "       [ 0.34299717, -1.23669388]])"
            ]
          },
          "metadata": {},
          "execution_count": 3
        }
      ]
    },
    {
      "cell_type": "code",
      "source": [
        ""
      ],
      "metadata": {
        "id": "fH46d0rpz3cq"
      },
      "execution_count": null,
      "outputs": []
    }
  ]
}