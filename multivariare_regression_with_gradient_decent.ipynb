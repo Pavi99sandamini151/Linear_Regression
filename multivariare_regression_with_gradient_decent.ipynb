{
  "nbformat": 4,
  "nbformat_minor": 0,
  "metadata": {
    "colab": {
      "name": "19001517.ipynb",
      "provenance": [],
      "authorship_tag": "ABX9TyPdGTxsd0PDXLJIBvYf7bJ1",
      "include_colab_link": true
    },
    "kernelspec": {
      "name": "python3",
      "display_name": "Python 3"
    },
    "language_info": {
      "name": "python"
    }
  },
  "cells": [
    {
      "cell_type": "markdown",
      "metadata": {
        "id": "view-in-github",
        "colab_type": "text"
      },
      "source": [
        "<a href=\"https://colab.research.google.com/github/Pavi99sandamini151/Machine_learning/blob/main/multivariare_regression_with_gradient_decent.ipynb\" target=\"_parent\"><img src=\"https://colab.research.google.com/assets/colab-badge.svg\" alt=\"Open In Colab\"/></a>"
      ]
    },
    {
      "cell_type": "code",
      "execution_count": 1,
      "metadata": {
        "id": "b2j4m4CvoTLt"
      },
      "outputs": [],
      "source": [
        "%matplotlib inline\n",
        "import pandas as pd\n",
        "import numpy as np\n",
        "import matplotlib.pyplot as plt"
      ]
    },
    {
      "cell_type": "code",
      "source": [
        "#importing the dataset from UCI\n",
        "theDataset = 'https://archive.ics.uci.edu/ml/machine-learning-databases/00374/energydata_complete.csv'\n",
        "\n",
        "df = pd.read_csv(theDataset,header=None)\n",
        "\n",
        "#filtering unwanted columns\n",
        "df.drop(columns=[0,1,3,4,5,6,7,8,9,10,11,12,13,14,15,16,17,18,19,20], inplace=True, axis=1)\n",
        "\n",
        "#Removing the header row\n",
        "df = df.iloc[1:] \n",
        "df = df.astype(float) #Converting all values in the dataset to float\n",
        "\n",
        "#Adding the bias column to the dataset\n",
        "df = pd.concat([pd.Series(1, index=df.index, name=\"00\"), df], axis=1)\n",
        "#Printing the dataframe after pre-processing\n",
        "df.head()"
      ],
      "metadata": {
        "colab": {
          "base_uri": "https://localhost:8080/",
          "height": 206
        },
        "id": "OeYy-jkUocN9",
        "outputId": "da079c92-9ad0-4bb7-fa93-82c8cedc8d80"
      },
      "execution_count": 2,
      "outputs": [
        {
          "output_type": "execute_result",
          "data": {
            "text/plain": [
              "   00     2        21     22    23        24         25   26         27  \\\n",
              "1   1  30.0  6.600000  733.5  92.0  7.000000  63.000000  5.3  13.275433   \n",
              "2   1  30.0  6.483333  733.6  92.0  6.666667  59.166667  5.2  18.606195   \n",
              "3   1  30.0  6.366667  733.7  92.0  6.333333  55.333333  5.1  28.642668   \n",
              "4   1  40.0  6.250000  733.8  92.0  6.000000  51.500000  5.0  45.410389   \n",
              "5   1  40.0  6.133333  733.9  92.0  5.666667  47.666667  4.9  10.084097   \n",
              "\n",
              "          28  \n",
              "1  13.275433  \n",
              "2  18.606195  \n",
              "3  28.642668  \n",
              "4  45.410389  \n",
              "5  10.084097  "
            ],
            "text/html": [
              "\n",
              "  <div id=\"df-867a4751-eac6-4ce7-96bb-6135b435c727\">\n",
              "    <div class=\"colab-df-container\">\n",
              "      <div>\n",
              "<style scoped>\n",
              "    .dataframe tbody tr th:only-of-type {\n",
              "        vertical-align: middle;\n",
              "    }\n",
              "\n",
              "    .dataframe tbody tr th {\n",
              "        vertical-align: top;\n",
              "    }\n",
              "\n",
              "    .dataframe thead th {\n",
              "        text-align: right;\n",
              "    }\n",
              "</style>\n",
              "<table border=\"1\" class=\"dataframe\">\n",
              "  <thead>\n",
              "    <tr style=\"text-align: right;\">\n",
              "      <th></th>\n",
              "      <th>00</th>\n",
              "      <th>2</th>\n",
              "      <th>21</th>\n",
              "      <th>22</th>\n",
              "      <th>23</th>\n",
              "      <th>24</th>\n",
              "      <th>25</th>\n",
              "      <th>26</th>\n",
              "      <th>27</th>\n",
              "      <th>28</th>\n",
              "    </tr>\n",
              "  </thead>\n",
              "  <tbody>\n",
              "    <tr>\n",
              "      <th>1</th>\n",
              "      <td>1</td>\n",
              "      <td>30.0</td>\n",
              "      <td>6.600000</td>\n",
              "      <td>733.5</td>\n",
              "      <td>92.0</td>\n",
              "      <td>7.000000</td>\n",
              "      <td>63.000000</td>\n",
              "      <td>5.3</td>\n",
              "      <td>13.275433</td>\n",
              "      <td>13.275433</td>\n",
              "    </tr>\n",
              "    <tr>\n",
              "      <th>2</th>\n",
              "      <td>1</td>\n",
              "      <td>30.0</td>\n",
              "      <td>6.483333</td>\n",
              "      <td>733.6</td>\n",
              "      <td>92.0</td>\n",
              "      <td>6.666667</td>\n",
              "      <td>59.166667</td>\n",
              "      <td>5.2</td>\n",
              "      <td>18.606195</td>\n",
              "      <td>18.606195</td>\n",
              "    </tr>\n",
              "    <tr>\n",
              "      <th>3</th>\n",
              "      <td>1</td>\n",
              "      <td>30.0</td>\n",
              "      <td>6.366667</td>\n",
              "      <td>733.7</td>\n",
              "      <td>92.0</td>\n",
              "      <td>6.333333</td>\n",
              "      <td>55.333333</td>\n",
              "      <td>5.1</td>\n",
              "      <td>28.642668</td>\n",
              "      <td>28.642668</td>\n",
              "    </tr>\n",
              "    <tr>\n",
              "      <th>4</th>\n",
              "      <td>1</td>\n",
              "      <td>40.0</td>\n",
              "      <td>6.250000</td>\n",
              "      <td>733.8</td>\n",
              "      <td>92.0</td>\n",
              "      <td>6.000000</td>\n",
              "      <td>51.500000</td>\n",
              "      <td>5.0</td>\n",
              "      <td>45.410389</td>\n",
              "      <td>45.410389</td>\n",
              "    </tr>\n",
              "    <tr>\n",
              "      <th>5</th>\n",
              "      <td>1</td>\n",
              "      <td>40.0</td>\n",
              "      <td>6.133333</td>\n",
              "      <td>733.9</td>\n",
              "      <td>92.0</td>\n",
              "      <td>5.666667</td>\n",
              "      <td>47.666667</td>\n",
              "      <td>4.9</td>\n",
              "      <td>10.084097</td>\n",
              "      <td>10.084097</td>\n",
              "    </tr>\n",
              "  </tbody>\n",
              "</table>\n",
              "</div>\n",
              "      <button class=\"colab-df-convert\" onclick=\"convertToInteractive('df-867a4751-eac6-4ce7-96bb-6135b435c727')\"\n",
              "              title=\"Convert this dataframe to an interactive table.\"\n",
              "              style=\"display:none;\">\n",
              "        \n",
              "  <svg xmlns=\"http://www.w3.org/2000/svg\" height=\"24px\"viewBox=\"0 0 24 24\"\n",
              "       width=\"24px\">\n",
              "    <path d=\"M0 0h24v24H0V0z\" fill=\"none\"/>\n",
              "    <path d=\"M18.56 5.44l.94 2.06.94-2.06 2.06-.94-2.06-.94-.94-2.06-.94 2.06-2.06.94zm-11 1L8.5 8.5l.94-2.06 2.06-.94-2.06-.94L8.5 2.5l-.94 2.06-2.06.94zm10 10l.94 2.06.94-2.06 2.06-.94-2.06-.94-.94-2.06-.94 2.06-2.06.94z\"/><path d=\"M17.41 7.96l-1.37-1.37c-.4-.4-.92-.59-1.43-.59-.52 0-1.04.2-1.43.59L10.3 9.45l-7.72 7.72c-.78.78-.78 2.05 0 2.83L4 21.41c.39.39.9.59 1.41.59.51 0 1.02-.2 1.41-.59l7.78-7.78 2.81-2.81c.8-.78.8-2.07 0-2.86zM5.41 20L4 18.59l7.72-7.72 1.47 1.35L5.41 20z\"/>\n",
              "  </svg>\n",
              "      </button>\n",
              "      \n",
              "  <style>\n",
              "    .colab-df-container {\n",
              "      display:flex;\n",
              "      flex-wrap:wrap;\n",
              "      gap: 12px;\n",
              "    }\n",
              "\n",
              "    .colab-df-convert {\n",
              "      background-color: #E8F0FE;\n",
              "      border: none;\n",
              "      border-radius: 50%;\n",
              "      cursor: pointer;\n",
              "      display: none;\n",
              "      fill: #1967D2;\n",
              "      height: 32px;\n",
              "      padding: 0 0 0 0;\n",
              "      width: 32px;\n",
              "    }\n",
              "\n",
              "    .colab-df-convert:hover {\n",
              "      background-color: #E2EBFA;\n",
              "      box-shadow: 0px 1px 2px rgba(60, 64, 67, 0.3), 0px 1px 3px 1px rgba(60, 64, 67, 0.15);\n",
              "      fill: #174EA6;\n",
              "    }\n",
              "\n",
              "    [theme=dark] .colab-df-convert {\n",
              "      background-color: #3B4455;\n",
              "      fill: #D2E3FC;\n",
              "    }\n",
              "\n",
              "    [theme=dark] .colab-df-convert:hover {\n",
              "      background-color: #434B5C;\n",
              "      box-shadow: 0px 1px 3px 1px rgba(0, 0, 0, 0.15);\n",
              "      filter: drop-shadow(0px 1px 2px rgba(0, 0, 0, 0.3));\n",
              "      fill: #FFFFFF;\n",
              "    }\n",
              "  </style>\n",
              "\n",
              "      <script>\n",
              "        const buttonEl =\n",
              "          document.querySelector('#df-867a4751-eac6-4ce7-96bb-6135b435c727 button.colab-df-convert');\n",
              "        buttonEl.style.display =\n",
              "          google.colab.kernel.accessAllowed ? 'block' : 'none';\n",
              "\n",
              "        async function convertToInteractive(key) {\n",
              "          const element = document.querySelector('#df-867a4751-eac6-4ce7-96bb-6135b435c727');\n",
              "          const dataTable =\n",
              "            await google.colab.kernel.invokeFunction('convertToInteractive',\n",
              "                                                     [key], {});\n",
              "          if (!dataTable) return;\n",
              "\n",
              "          const docLinkHtml = 'Like what you see? Visit the ' +\n",
              "            '<a target=\"_blank\" href=https://colab.research.google.com/notebooks/data_table.ipynb>data table notebook</a>'\n",
              "            + ' to learn more about interactive tables.';\n",
              "          element.innerHTML = '';\n",
              "          dataTable['output_type'] = 'display_data';\n",
              "          await google.colab.output.renderOutput(dataTable, element);\n",
              "          const docLink = document.createElement('div');\n",
              "          docLink.innerHTML = docLinkHtml;\n",
              "          element.appendChild(docLink);\n",
              "        }\n",
              "      </script>\n",
              "    </div>\n",
              "  </div>\n",
              "  "
            ]
          },
          "metadata": {},
          "execution_count": 2
        }
      ]
    },
    {
      "cell_type": "code",
      "source": [
        "#Independent variables -> X \n",
        "X = df.drop(columns=[21,22,23,24,25,26,27,28], axis=1)\n",
        "#Dependent variable -> y\n",
        "y = df.iloc[:, 1]\n",
        "y"
      ],
      "metadata": {
        "colab": {
          "base_uri": "https://localhost:8080/"
        },
        "id": "6w0E3R79o0D2",
        "outputId": "8d5b1a12-f22e-495b-c99f-35739e8028ac"
      },
      "execution_count": 3,
      "outputs": [
        {
          "output_type": "execute_result",
          "data": {
            "text/plain": [
              "1        30.0\n",
              "2        30.0\n",
              "3        30.0\n",
              "4        40.0\n",
              "5        40.0\n",
              "         ... \n",
              "19731     0.0\n",
              "19732     0.0\n",
              "19733    10.0\n",
              "19734    10.0\n",
              "19735    10.0\n",
              "Name: 2, Length: 19735, dtype: float64"
            ]
          },
          "metadata": {},
          "execution_count": 3
        }
      ]
    },
    {
      "cell_type": "code",
      "source": [
        "print(X)"
      ],
      "metadata": {
        "colab": {
          "base_uri": "https://localhost:8080/"
        },
        "id": "xEgwTaqeo73x",
        "outputId": "37255421-0997-4835-9d5c-f867034d4713"
      },
      "execution_count": 4,
      "outputs": [
        {
          "output_type": "stream",
          "name": "stdout",
          "text": [
            "       00     2\n",
            "1       1  30.0\n",
            "2       1  30.0\n",
            "3       1  30.0\n",
            "4       1  40.0\n",
            "5       1  40.0\n",
            "...    ..   ...\n",
            "19731   1   0.0\n",
            "19732   1   0.0\n",
            "19733   1  10.0\n",
            "19734   1  10.0\n",
            "19735   1  10.0\n",
            "\n",
            "[19735 rows x 2 columns]\n"
          ]
        }
      ]
    },
    {
      "cell_type": "code",
      "source": [
        "#Normalizing of features\n",
        "for i in X.columns:\n",
        "  maxValue = max(X[i])\n",
        "  X[i] /= maxValue\n",
        "  "
      ],
      "metadata": {
        "id": "ivWgCmsDpEbe"
      },
      "execution_count": 5,
      "outputs": []
    },
    {
      "cell_type": "code",
      "source": [
        "#splitting data into two sets as traindata and testdata \n",
        "from sklearn.model_selection import train_test_split\n",
        "\n",
        "#40% of the whole dataset is taken as the test data and the other 60% as the train data randomly\n",
        "X_traindata, X_testdata, y_traindata, y_testdata = train_test_split(X, y, test_size = 0.4, random_state = 69) "
      ],
      "metadata": {
        "id": "OtWQWzX5pIaZ"
      },
      "execution_count": 6,
      "outputs": []
    },
    {
      "cell_type": "code",
      "source": [
        "#Initialized theta variables to random values\n",
        "theta = np.random.randint(100, size=(len(X.columns)))"
      ],
      "metadata": {
        "id": "tZZ_OG-HpN10"
      },
      "execution_count": 7,
      "outputs": []
    },
    {
      "cell_type": "code",
      "source": [
        "def costFunction(X, y, theta, N):\n",
        "\n",
        "    #hypothesis\n",
        "    hx = theta*X  \n",
        "    hx = np.sum(hx, axis=1)\n",
        "    finalCost = np.sum((hx-y)**2)/(2*N)\n",
        "    return finalCost"
      ],
      "metadata": {
        "id": "7uGDFs7mpQy5"
      },
      "execution_count": 8,
      "outputs": []
    },
    {
      "cell_type": "code",
      "source": [
        "def gradientDescent(X, y, theta, learningRate, iterationsAmount,N):\n",
        "\n",
        "    #An array to record the cost at each itertion of the algorithm\n",
        "    stepwiseCosts = [] \n",
        "    while (iterationsAmount>0): \n",
        "\n",
        "        #hypothesis   \n",
        "        hx = theta*X  \n",
        "        hx = np.sum(hx, axis=1) \n",
        "        \n",
        "        #Updating all the theta values\n",
        "        for j in range(0, len(X.columns)):\n",
        "            theta[j] = theta[j] - (learningRate/N)*(sum((hx-y)*X.iloc[:,j]))\n",
        "\n",
        "        #recording cost at each itertion to the above array\n",
        "        stepwiseCosts.append(costFunction(X, y, theta,N)) \n",
        "        iterationsAmount-=1\n",
        "\n",
        "    return stepwiseCosts, theta"
      ],
      "metadata": {
        "id": "0g_9ojB0pTuz"
      },
      "execution_count": 9,
      "outputs": []
    },
    {
      "cell_type": "code",
      "source": [
        "#Model configurations\n",
        "learningRate = 0.05\n",
        "iterationsAmount = 100\n",
        "#Number of datapoints\n",
        "N = float(len(df)) \n",
        "\n",
        "#Training the multivariate linear regression model\n",
        "stepwiseCosts, theta = gradientDescent(X_traindata, y_traindata, theta, learningRate, iterationsAmount,N)\n",
        "\n",
        "#Plotting convergence\n",
        "plt.figure()\n",
        "plt.xlabel('Number of iterations')\n",
        "plt.ylabel('Cost')\n",
        "plt.title('Convergence')\n",
        "plt.scatter(x=list(range(0, iterationsAmount)), y=stepwiseCosts)\n",
        "plt.show()"
      ],
      "metadata": {
        "colab": {
          "base_uri": "https://localhost:8080/",
          "height": 295
        },
        "id": "19qB6chSpX-w",
        "outputId": "0c7bfae9-287d-4640-c324-151ee1c934d9"
      },
      "execution_count": 10,
      "outputs": [
        {
          "output_type": "display_data",
          "data": {
            "text/plain": [
              "<Figure size 432x288 with 1 Axes>"
            ],
            "image/png": "[encoded data removed]"
          },
          "metadata": {
            "needs_background": "light"
          }
        }
      ]
    },
    {
      "cell_type": "code",
      "source": [
        "#Testing the accuracy of model\n",
        "\n",
        "#hypothesis \n",
        "predicted_Y_values = theta*X_testdata \n",
        "predicted_Y_values = np.sum(predicted_Y_values, axis=1) \n",
        "\n",
        "from sklearn.metrics import r2_score\n",
        "print('The r2 score is: ',r2_score(y_testdata,predicted_Y_values))"
      ],
      "metadata": {
        "colab": {
          "base_uri": "https://localhost:8080/"
        },
        "id": "dwOZv7-opbhw",
        "outputId": "f015d5f4-6158-408c-e662-14fed08a2cb1"
      },
      "execution_count": 11,
      "outputs": [
        {
          "output_type": "stream",
          "name": "stdout",
          "text": [
            "The r2 score is:  0.3131463206568319\n"
          ]
        }
      ]
    },
    {
      "cell_type": "code",
      "source": [
        ""
      ],
      "metadata": {
        "id": "b5i4-0zgpfiT"
      },
      "execution_count": null,
      "outputs": []
    }
  ]
}